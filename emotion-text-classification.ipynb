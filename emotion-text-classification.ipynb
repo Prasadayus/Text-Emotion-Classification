{
 "cells": [
  {
   "cell_type": "code",
   "execution_count": null,
   "metadata": {
    "_cell_guid": "b1076dfc-b9ad-4769-8c92-a6c4dae69d19",
    "_uuid": "8f2839f25d086af736a60e9eeb907d3b93b6e0e5",
    "execution": {
     "iopub.execute_input": "2024-08-23T09:28:10.985420Z",
     "iopub.status.busy": "2024-08-23T09:28:10.984529Z",
     "iopub.status.idle": "2024-08-23T09:28:10.997722Z",
     "shell.execute_reply": "2024-08-23T09:28:10.996520Z",
     "shell.execute_reply.started": "2024-08-23T09:28:10.985378Z"
    }
   },
   "outputs": [],
   "source": [
    "# This Python 3 environment comes with many helpful analytics libraries installed\n",
    "# It is defined by the kaggle/python Docker image: https://github.com/kaggle/docker-python\n",
    "# For example, here's several helpful packages to load\n",
    "\n",
    "import numpy as np # linear algebra\n",
    "import pandas as pd # data processing, CSV file I/O (e.g. pd.read_csv)\n",
    "\n",
    "# Input data files are available in the read-only \"../input/\" directory\n",
    "# For example, running this (by clicking run or pressing Shift+Enter) will list all files under the input directory\n",
    "\n",
    "import os\n",
    "for dirname, _, filenames in os.walk('/kaggle/input'):\n",
    "    for filename in filenames:\n",
    "        print(os.path.join(dirname, filename))\n",
    "\n",
    "# You can write up to 20GB to the current directory (/kaggle/working/) that gets preserved as output when you create a version using \"Save & Run All\" \n",
    "# You can also write temporary files to /kaggle/temp/, but they won't be saved outside of the current session"
   ]
  },
  {
   "cell_type": "code",
   "execution_count": null,
   "metadata": {
    "execution": {
     "iopub.execute_input": "2024-08-23T17:01:25.196047Z",
     "iopub.status.busy": "2024-08-23T17:01:25.195691Z",
     "iopub.status.idle": "2024-08-23T17:01:36.422974Z",
     "shell.execute_reply": "2024-08-23T17:01:36.422189Z",
     "shell.execute_reply.started": "2024-08-23T17:01:25.196018Z"
    }
   },
   "outputs": [],
   "source": [
    "import numpy as np\n",
    "import pandas as pd\n",
    "import matplotlib.pyplot as plt\n",
    "import seaborn as sns\n",
    "import re\n",
    "import gensim\n",
    "from gensim.models import Word2Vec, KeyedVectors"
   ]
  },
  {
   "cell_type": "code",
   "execution_count": null,
   "metadata": {
    "execution": {
     "iopub.execute_input": "2024-08-23T17:01:36.424874Z",
     "iopub.status.busy": "2024-08-23T17:01:36.424399Z",
     "iopub.status.idle": "2024-08-23T17:01:36.528749Z",
     "shell.execute_reply": "2024-08-23T17:01:36.527774Z",
     "shell.execute_reply.started": "2024-08-23T17:01:36.424847Z"
    }
   },
   "outputs": [],
   "source": [
    "train_df = pd.read_csv(\"/kaggle/input/emotions-dataset-for-nlp/train.txt\", sep=';', header=None, names=['Text', 'Emotion'])\n",
    "test_df = pd.read_csv(\"/kaggle/input/emotions-dataset-for-nlp/test.txt\", sep=';', header=None, names=['Text', 'Emotion'])\n",
    "val_df = pd.read_csv(\"/kaggle/input/emotions-dataset-for-nlp/val.txt\", sep=';', header=None, names=['Text', 'Emotion'])"
   ]
  },
  {
   "cell_type": "code",
   "execution_count": null,
   "metadata": {
    "execution": {
     "iopub.execute_input": "2024-08-23T17:01:36.530094Z",
     "iopub.status.busy": "2024-08-23T17:01:36.529818Z",
     "iopub.status.idle": "2024-08-23T17:01:36.560192Z",
     "shell.execute_reply": "2024-08-23T17:01:36.559348Z",
     "shell.execute_reply.started": "2024-08-23T17:01:36.530071Z"
    }
   },
   "outputs": [],
   "source": [
    "train_df.info()"
   ]
  },
  {
   "cell_type": "markdown",
   "metadata": {},
   "source": [
    "# **Data Preprocessing**"
   ]
  },
  {
   "cell_type": "code",
   "execution_count": null,
   "metadata": {
    "execution": {
     "iopub.execute_input": "2024-08-23T17:01:36.562848Z",
     "iopub.status.busy": "2024-08-23T17:01:36.562479Z",
     "iopub.status.idle": "2024-08-23T17:01:36.576895Z",
     "shell.execute_reply": "2024-08-23T17:01:36.576031Z",
     "shell.execute_reply.started": "2024-08-23T17:01:36.562813Z"
    }
   },
   "outputs": [],
   "source": [
    "train_df.isnull().sum()"
   ]
  },
  {
   "cell_type": "code",
   "execution_count": null,
   "metadata": {
    "execution": {
     "iopub.execute_input": "2024-08-23T17:01:36.578080Z",
     "iopub.status.busy": "2024-08-23T17:01:36.577826Z",
     "iopub.status.idle": "2024-08-23T17:01:36.596331Z",
     "shell.execute_reply": "2024-08-23T17:01:36.595304Z",
     "shell.execute_reply.started": "2024-08-23T17:01:36.578059Z"
    }
   },
   "outputs": [],
   "source": [
    "train_df.duplicated().sum()"
   ]
  },
  {
   "cell_type": "code",
   "execution_count": null,
   "metadata": {
    "execution": {
     "iopub.execute_input": "2024-08-23T17:01:36.597683Z",
     "iopub.status.busy": "2024-08-23T17:01:36.597347Z",
     "iopub.status.idle": "2024-08-23T17:01:36.613910Z",
     "shell.execute_reply": "2024-08-23T17:01:36.613053Z",
     "shell.execute_reply.started": "2024-08-23T17:01:36.597654Z"
    }
   },
   "outputs": [],
   "source": [
    "duplicate_rows = train_df[train_df.duplicated(keep=False)]\n",
    "\n",
    "# Displaying the duplicate rows\n",
    "print(duplicate_rows)"
   ]
  },
  {
   "cell_type": "code",
   "execution_count": null,
   "metadata": {
    "execution": {
     "iopub.execute_input": "2024-08-23T17:01:36.615127Z",
     "iopub.status.busy": "2024-08-23T17:01:36.614870Z",
     "iopub.status.idle": "2024-08-23T17:01:36.627186Z",
     "shell.execute_reply": "2024-08-23T17:01:36.626290Z",
     "shell.execute_reply.started": "2024-08-23T17:01:36.615105Z"
    }
   },
   "outputs": [],
   "source": [
    "train_df.drop_duplicates(inplace=True)"
   ]
  },
  {
   "cell_type": "markdown",
   "metadata": {},
   "source": [
    "Seeing the count of each emotion in train dataset"
   ]
  },
  {
   "cell_type": "code",
   "execution_count": null,
   "metadata": {
    "execution": {
     "iopub.execute_input": "2024-08-23T17:01:36.628334Z",
     "iopub.status.busy": "2024-08-23T17:01:36.628089Z",
     "iopub.status.idle": "2024-08-23T17:01:36.639239Z",
     "shell.execute_reply": "2024-08-23T17:01:36.638306Z",
     "shell.execute_reply.started": "2024-08-23T17:01:36.628304Z"
    }
   },
   "outputs": [],
   "source": [
    "train_df['Emotion'].value_counts()"
   ]
  },
  {
   "cell_type": "code",
   "execution_count": null,
   "metadata": {
    "execution": {
     "iopub.execute_input": "2024-08-23T17:01:36.640784Z",
     "iopub.status.busy": "2024-08-23T17:01:36.640371Z",
     "iopub.status.idle": "2024-08-23T17:01:36.657043Z",
     "shell.execute_reply": "2024-08-23T17:01:36.656307Z",
     "shell.execute_reply.started": "2024-08-23T17:01:36.640752Z"
    }
   },
   "outputs": [],
   "source": [
    "train_df = train_df.query('Emotion != \"surprise\" and Emotion != \"love\"')\n",
    "val_df = val_df.query('Emotion != \"surprise\" and Emotion != \"love\"')\n"
   ]
  },
  {
   "cell_type": "code",
   "execution_count": null,
   "metadata": {
    "execution": {
     "iopub.execute_input": "2024-08-23T17:01:36.660727Z",
     "iopub.status.busy": "2024-08-23T17:01:36.660075Z",
     "iopub.status.idle": "2024-08-23T17:01:36.668530Z",
     "shell.execute_reply": "2024-08-23T17:01:36.667586Z",
     "shell.execute_reply.started": "2024-08-23T17:01:36.660695Z"
    }
   },
   "outputs": [],
   "source": [
    "test_df = test_df.query('Emotion != \"surprise\" and Emotion != \"love\"')"
   ]
  },
  {
   "cell_type": "code",
   "execution_count": null,
   "metadata": {
    "execution": {
     "iopub.execute_input": "2024-08-23T17:01:36.670330Z",
     "iopub.status.busy": "2024-08-23T17:01:36.669643Z",
     "iopub.status.idle": "2024-08-23T17:01:36.679829Z",
     "shell.execute_reply": "2024-08-23T17:01:36.678953Z",
     "shell.execute_reply.started": "2024-08-23T17:01:36.670297Z"
    }
   },
   "outputs": [],
   "source": [
    "print(train_df.shape)\n",
    "print(val_df.shape)"
   ]
  },
  {
   "cell_type": "markdown",
   "metadata": {},
   "source": [
    "Concating the training and validation datase"
   ]
  },
  {
   "cell_type": "code",
   "execution_count": null,
   "metadata": {
    "execution": {
     "iopub.execute_input": "2024-08-23T17:01:36.681275Z",
     "iopub.status.busy": "2024-08-23T17:01:36.680960Z",
     "iopub.status.idle": "2024-08-23T17:01:36.697613Z",
     "shell.execute_reply": "2024-08-23T17:01:36.696666Z",
     "shell.execute_reply.started": "2024-08-23T17:01:36.681246Z"
    }
   },
   "outputs": [],
   "source": [
    "training_dataset = pd.concat([train_df, val_df], ignore_index=True)\n",
    "training_dataset"
   ]
  },
  {
   "cell_type": "code",
   "execution_count": null,
   "metadata": {
    "execution": {
     "iopub.execute_input": "2024-08-23T17:01:49.556818Z",
     "iopub.status.busy": "2024-08-23T17:01:49.556053Z",
     "iopub.status.idle": "2024-08-23T17:01:49.568429Z",
     "shell.execute_reply": "2024-08-23T17:01:49.567308Z",
     "shell.execute_reply.started": "2024-08-23T17:01:49.556776Z"
    }
   },
   "outputs": [],
   "source": [
    "training_dataset['Emotion'].value_counts()"
   ]
  },
  {
   "cell_type": "code",
   "execution_count": null,
   "metadata": {
    "execution": {
     "iopub.execute_input": "2024-08-23T17:01:50.759678Z",
     "iopub.status.busy": "2024-08-23T17:01:50.759319Z",
     "iopub.status.idle": "2024-08-23T17:01:50.770633Z",
     "shell.execute_reply": "2024-08-23T17:01:50.769541Z",
     "shell.execute_reply.started": "2024-08-23T17:01:50.759649Z"
    }
   },
   "outputs": [],
   "source": [
    "training_dataset.isnull().sum()"
   ]
  },
  {
   "cell_type": "code",
   "execution_count": null,
   "metadata": {
    "execution": {
     "iopub.execute_input": "2024-08-23T17:01:51.324410Z",
     "iopub.status.busy": "2024-08-23T17:01:51.324041Z",
     "iopub.status.idle": "2024-08-23T17:01:51.340631Z",
     "shell.execute_reply": "2024-08-23T17:01:51.339728Z",
     "shell.execute_reply.started": "2024-08-23T17:01:51.324383Z"
    }
   },
   "outputs": [],
   "source": [
    "training_dataset.duplicated().sum()"
   ]
  },
  {
   "cell_type": "code",
   "execution_count": null,
   "metadata": {
    "execution": {
     "iopub.execute_input": "2024-08-23T17:01:51.760771Z",
     "iopub.status.busy": "2024-08-23T17:01:51.760098Z",
     "iopub.status.idle": "2024-08-23T17:01:51.767089Z",
     "shell.execute_reply": "2024-08-23T17:01:51.766152Z",
     "shell.execute_reply.started": "2024-08-23T17:01:51.760735Z"
    }
   },
   "outputs": [],
   "source": [
    "training_dataset.shape"
   ]
  },
  {
   "cell_type": "code",
   "execution_count": null,
   "metadata": {
    "execution": {
     "iopub.execute_input": "2024-08-23T17:01:52.315266Z",
     "iopub.status.busy": "2024-08-23T17:01:52.314295Z",
     "iopub.status.idle": "2024-08-23T17:01:53.121528Z",
     "shell.execute_reply": "2024-08-23T17:01:53.120413Z",
     "shell.execute_reply.started": "2024-08-23T17:01:52.315219Z"
    }
   },
   "outputs": [],
   "source": [
    "from nltk.corpus import stopwords\n",
    "stop_words = stopwords.words('english')\n",
    "stop_words"
   ]
  },
  {
   "cell_type": "code",
   "execution_count": null,
   "metadata": {
    "execution": {
     "iopub.execute_input": "2024-08-23T17:01:53.149171Z",
     "iopub.status.busy": "2024-08-23T17:01:53.148607Z",
     "iopub.status.idle": "2024-08-23T17:01:53.153552Z",
     "shell.execute_reply": "2024-08-23T17:01:53.152422Z",
     "shell.execute_reply.started": "2024-08-23T17:01:53.149136Z"
    }
   },
   "outputs": [],
   "source": [
    "from nltk.stem import SnowballStemmer\n",
    "snowballstemmer=SnowballStemmer('english')"
   ]
  },
  {
   "cell_type": "code",
   "execution_count": null,
   "metadata": {
    "execution": {
     "iopub.execute_input": "2024-08-23T17:01:53.748358Z",
     "iopub.status.busy": "2024-08-23T17:01:53.748013Z",
     "iopub.status.idle": "2024-08-23T17:01:58.482274Z",
     "shell.execute_reply": "2024-08-23T17:01:58.481469Z",
     "shell.execute_reply.started": "2024-08-23T17:01:53.748330Z"
    }
   },
   "outputs": [],
   "source": [
    "corpus = []\n",
    "\n",
    "for index, row in training_dataset.iterrows():\n",
    "    text = re.sub('[^a-zA-Z]', ' ', row['Text'])\n",
    "    text = text.lower()\n",
    "    text = text.split()\n",
    "    text = [snowballstemmer.stem(word) for word in text if word not in stop_words]\n",
    "    text = ' '.join(text)\n",
    "    corpus.append(text)"
   ]
  },
  {
   "cell_type": "code",
   "execution_count": null,
   "metadata": {
    "execution": {
     "iopub.execute_input": "2024-08-23T17:01:58.484026Z",
     "iopub.status.busy": "2024-08-23T17:01:58.483737Z",
     "iopub.status.idle": "2024-08-23T17:01:58.508367Z",
     "shell.execute_reply": "2024-08-23T17:01:58.507461Z",
     "shell.execute_reply.started": "2024-08-23T17:01:58.484001Z"
    }
   },
   "outputs": [],
   "source": [
    "corpus[:]"
   ]
  },
  {
   "cell_type": "markdown",
   "metadata": {},
   "source": [
    "# **Word2Vec**"
   ]
  },
  {
   "cell_type": "code",
   "execution_count": null,
   "metadata": {
    "execution": {
     "iopub.execute_input": "2024-08-23T17:01:58.509976Z",
     "iopub.status.busy": "2024-08-23T17:01:58.509508Z",
     "iopub.status.idle": "2024-08-23T17:01:58.518420Z",
     "shell.execute_reply": "2024-08-23T17:01:58.517550Z",
     "shell.execute_reply.started": "2024-08-23T17:01:58.509937Z"
    }
   },
   "outputs": [],
   "source": [
    "from nltk import sent_tokenize\n",
    "from gensim.utils import simple_preprocess"
   ]
  },
  {
   "cell_type": "code",
   "execution_count": null,
   "metadata": {
    "execution": {
     "iopub.execute_input": "2024-08-23T17:01:58.520735Z",
     "iopub.status.busy": "2024-08-23T17:01:58.520396Z",
     "iopub.status.idle": "2024-08-23T17:01:59.444009Z",
     "shell.execute_reply": "2024-08-23T17:01:59.443207Z",
     "shell.execute_reply.started": "2024-08-23T17:01:58.520705Z"
    }
   },
   "outputs": [],
   "source": [
    "words=[]\n",
    "for sent in corpus:\n",
    "    sent_token=sent_tokenize(sent)\n",
    "    for sent in sent_token:\n",
    "        words.append(simple_preprocess(sent))\n",
    "    "
   ]
  },
  {
   "cell_type": "code",
   "execution_count": null,
   "metadata": {
    "execution": {
     "iopub.execute_input": "2024-08-23T17:01:59.445352Z",
     "iopub.status.busy": "2024-08-23T17:01:59.445072Z",
     "iopub.status.idle": "2024-08-23T17:01:59.660043Z",
     "shell.execute_reply": "2024-08-23T17:01:59.659210Z",
     "shell.execute_reply.started": "2024-08-23T17:01:59.445328Z"
    }
   },
   "outputs": [],
   "source": [
    "words"
   ]
  },
  {
   "cell_type": "code",
   "execution_count": null,
   "metadata": {
    "execution": {
     "iopub.execute_input": "2024-08-23T17:01:59.662232Z",
     "iopub.status.busy": "2024-08-23T17:01:59.661895Z",
     "iopub.status.idle": "2024-08-23T17:02:05.089820Z",
     "shell.execute_reply": "2024-08-23T17:02:05.089026Z",
     "shell.execute_reply.started": "2024-08-23T17:01:59.662204Z"
    }
   },
   "outputs": [],
   "source": [
    "model=gensim.models.Word2Vec(words,vector_size=150,window=15,epochs=35)"
   ]
  },
  {
   "cell_type": "markdown",
   "metadata": {},
   "source": [
    "Seeing all vocabulary"
   ]
  },
  {
   "cell_type": "code",
   "execution_count": null,
   "metadata": {
    "execution": {
     "iopub.execute_input": "2024-08-23T17:03:47.128932Z",
     "iopub.status.busy": "2024-08-23T17:03:47.128297Z",
     "iopub.status.idle": "2024-08-23T17:03:47.150901Z",
     "shell.execute_reply": "2024-08-23T17:03:47.150129Z",
     "shell.execute_reply.started": "2024-08-23T17:03:47.128897Z"
    }
   },
   "outputs": [],
   "source": [
    "model.wv.index_to_key"
   ]
  },
  {
   "cell_type": "code",
   "execution_count": null,
   "metadata": {
    "execution": {
     "iopub.execute_input": "2024-08-23T14:50:44.991884Z",
     "iopub.status.busy": "2024-08-23T14:50:44.991501Z",
     "iopub.status.idle": "2024-08-23T14:50:44.997814Z",
     "shell.execute_reply": "2024-08-23T14:50:44.996900Z",
     "shell.execute_reply.started": "2024-08-23T14:50:44.991842Z"
    }
   },
   "outputs": [],
   "source": [
    "model.corpus_count"
   ]
  },
  {
   "cell_type": "code",
   "execution_count": null,
   "metadata": {
    "execution": {
     "iopub.execute_input": "2024-08-23T17:03:51.433202Z",
     "iopub.status.busy": "2024-08-23T17:03:51.432602Z",
     "iopub.status.idle": "2024-08-23T17:03:51.448159Z",
     "shell.execute_reply": "2024-08-23T17:03:51.447033Z",
     "shell.execute_reply.started": "2024-08-23T17:03:51.433170Z"
    }
   },
   "outputs": [],
   "source": [
    "model.wv.similar_by_word('good')"
   ]
  },
  {
   "cell_type": "code",
   "execution_count": null,
   "metadata": {
    "execution": {
     "iopub.execute_input": "2024-08-23T14:50:48.474764Z",
     "iopub.status.busy": "2024-08-23T14:50:48.473910Z",
     "iopub.status.idle": "2024-08-23T14:50:48.480134Z",
     "shell.execute_reply": "2024-08-23T14:50:48.479189Z",
     "shell.execute_reply.started": "2024-08-23T14:50:48.474733Z"
    }
   },
   "outputs": [],
   "source": [
    "model.wv['good'].shape"
   ]
  },
  {
   "cell_type": "code",
   "execution_count": null,
   "metadata": {
    "execution": {
     "iopub.execute_input": "2024-08-23T17:03:55.905759Z",
     "iopub.status.busy": "2024-08-23T17:03:55.905416Z",
     "iopub.status.idle": "2024-08-23T17:03:55.911206Z",
     "shell.execute_reply": "2024-08-23T17:03:55.910194Z",
     "shell.execute_reply.started": "2024-08-23T17:03:55.905732Z"
    }
   },
   "outputs": [],
   "source": [
    "def avg_word2vec(words):\n",
    "    vectors = [model.wv[word] for word in words if word in model.wv]\n",
    "    return np.mean(vectors, axis=0) if vectors else np.zeros(model.vector_size)\n"
   ]
  },
  {
   "cell_type": "code",
   "execution_count": null,
   "metadata": {
    "execution": {
     "iopub.execute_input": "2024-08-23T17:03:57.006309Z",
     "iopub.status.busy": "2024-08-23T17:03:57.005938Z",
     "iopub.status.idle": "2024-08-23T17:03:57.837568Z",
     "shell.execute_reply": "2024-08-23T17:03:57.836551Z",
     "shell.execute_reply.started": "2024-08-23T17:03:57.006279Z"
    }
   },
   "outputs": [],
   "source": [
    "X = []\n",
    "for i in range(len(words)):\n",
    "    X.append(avg_word2vec(words[i]))"
   ]
  },
  {
   "cell_type": "code",
   "execution_count": null,
   "metadata": {
    "execution": {
     "iopub.execute_input": "2024-08-23T17:03:57.844130Z",
     "iopub.status.busy": "2024-08-23T17:03:57.839113Z",
     "iopub.status.idle": "2024-08-23T17:03:57.869985Z",
     "shell.execute_reply": "2024-08-23T17:03:57.869069Z",
     "shell.execute_reply.started": "2024-08-23T17:03:57.844091Z"
    }
   },
   "outputs": [],
   "source": [
    "X = np.array(X)"
   ]
  },
  {
   "cell_type": "code",
   "execution_count": null,
   "metadata": {
    "execution": {
     "iopub.execute_input": "2024-08-23T17:03:58.305699Z",
     "iopub.status.busy": "2024-08-23T17:03:58.305274Z",
     "iopub.status.idle": "2024-08-23T17:03:58.310442Z",
     "shell.execute_reply": "2024-08-23T17:03:58.309283Z",
     "shell.execute_reply.started": "2024-08-23T17:03:58.305667Z"
    }
   },
   "outputs": [],
   "source": [
    "X_train=X[:14123]"
   ]
  },
  {
   "cell_type": "code",
   "execution_count": null,
   "metadata": {
    "execution": {
     "iopub.execute_input": "2024-08-23T17:03:58.913632Z",
     "iopub.status.busy": "2024-08-23T17:03:58.912995Z",
     "iopub.status.idle": "2024-08-23T17:03:58.919627Z",
     "shell.execute_reply": "2024-08-23T17:03:58.918742Z",
     "shell.execute_reply.started": "2024-08-23T17:03:58.913601Z"
    }
   },
   "outputs": [],
   "source": [
    "X_train.shape"
   ]
  },
  {
   "cell_type": "code",
   "execution_count": null,
   "metadata": {
    "execution": {
     "iopub.execute_input": "2024-08-23T17:03:59.598849Z",
     "iopub.status.busy": "2024-08-23T17:03:59.598467Z",
     "iopub.status.idle": "2024-08-23T17:03:59.606187Z",
     "shell.execute_reply": "2024-08-23T17:03:59.605259Z",
     "shell.execute_reply.started": "2024-08-23T17:03:59.598822Z"
    }
   },
   "outputs": [],
   "source": [
    "X_train"
   ]
  },
  {
   "cell_type": "code",
   "execution_count": null,
   "metadata": {
    "execution": {
     "iopub.execute_input": "2024-08-23T17:04:02.913554Z",
     "iopub.status.busy": "2024-08-23T17:04:02.912708Z",
     "iopub.status.idle": "2024-08-23T17:04:02.919183Z",
     "shell.execute_reply": "2024-08-23T17:04:02.918256Z",
     "shell.execute_reply.started": "2024-08-23T17:04:02.913507Z"
    }
   },
   "outputs": [],
   "source": [
    "X_val=X[14123:]\n",
    "X_val.shape"
   ]
  },
  {
   "cell_type": "code",
   "execution_count": null,
   "metadata": {
    "execution": {
     "iopub.execute_input": "2024-08-23T14:50:55.874617Z",
     "iopub.status.busy": "2024-08-23T14:50:55.874252Z",
     "iopub.status.idle": "2024-08-23T14:50:55.881482Z",
     "shell.execute_reply": "2024-08-23T14:50:55.880498Z",
     "shell.execute_reply.started": "2024-08-23T14:50:55.874588Z"
    }
   },
   "outputs": [],
   "source": [
    "X_val"
   ]
  },
  {
   "cell_type": "code",
   "execution_count": null,
   "metadata": {
    "execution": {
     "iopub.execute_input": "2024-08-23T17:04:05.994605Z",
     "iopub.status.busy": "2024-08-23T17:04:05.993940Z",
     "iopub.status.idle": "2024-08-23T17:04:06.005650Z",
     "shell.execute_reply": "2024-08-23T17:04:06.004766Z",
     "shell.execute_reply.started": "2024-08-23T17:04:05.994570Z"
    }
   },
   "outputs": [],
   "source": [
    "from sklearn.preprocessing import LabelEncoder\n",
    "encoder = LabelEncoder()\n",
    "y=encoder.fit_transform(training_dataset['Emotion'])\n",
    "y"
   ]
  },
  {
   "cell_type": "code",
   "execution_count": null,
   "metadata": {
    "execution": {
     "iopub.execute_input": "2024-08-23T17:04:06.361130Z",
     "iopub.status.busy": "2024-08-23T17:04:06.360837Z",
     "iopub.status.idle": "2024-08-23T17:04:06.366866Z",
     "shell.execute_reply": "2024-08-23T17:04:06.365925Z",
     "shell.execute_reply.started": "2024-08-23T17:04:06.361107Z"
    }
   },
   "outputs": [],
   "source": [
    "y_train=y[:14123]\n",
    "y_train.shape"
   ]
  },
  {
   "cell_type": "code",
   "execution_count": null,
   "metadata": {
    "execution": {
     "iopub.execute_input": "2024-08-23T17:04:07.121347Z",
     "iopub.status.busy": "2024-08-23T17:04:07.121002Z",
     "iopub.status.idle": "2024-08-23T17:04:07.127291Z",
     "shell.execute_reply": "2024-08-23T17:04:07.126434Z",
     "shell.execute_reply.started": "2024-08-23T17:04:07.121320Z"
    }
   },
   "outputs": [],
   "source": [
    "y_val=y[14123:]\n",
    "y_val.shape"
   ]
  },
  {
   "cell_type": "markdown",
   "metadata": {},
   "source": [
    "# **ML Model Training**"
   ]
  },
  {
   "cell_type": "code",
   "execution_count": null,
   "metadata": {
    "execution": {
     "iopub.execute_input": "2024-08-23T17:04:11.432815Z",
     "iopub.status.busy": "2024-08-23T17:04:11.432472Z",
     "iopub.status.idle": "2024-08-23T17:04:14.590147Z",
     "shell.execute_reply": "2024-08-23T17:04:14.589375Z",
     "shell.execute_reply.started": "2024-08-23T17:04:11.432789Z"
    }
   },
   "outputs": [],
   "source": [
    "from sklearn.model_selection import train_test_split, cross_val_score\n",
    "from lightgbm import LGBMClassifier\n",
    "from sklearn.metrics import classification_report\n",
    "from sklearn.metrics import accuracy_score"
   ]
  },
  {
   "cell_type": "markdown",
   "metadata": {},
   "source": [
    "Lightgbm"
   ]
  },
  {
   "cell_type": "code",
   "execution_count": null,
   "metadata": {
    "execution": {
     "iopub.execute_input": "2024-08-23T09:10:49.104222Z",
     "iopub.status.busy": "2024-08-23T09:10:49.102914Z",
     "iopub.status.idle": "2024-08-23T09:11:25.823535Z",
     "shell.execute_reply": "2024-08-23T09:11:25.822407Z",
     "shell.execute_reply.started": "2024-08-23T09:10:49.104183Z"
    }
   },
   "outputs": [],
   "source": [
    "lgbm = LGBMClassifier(device='gpu',verbosity=-1)\n",
    "\n",
    "cv_scores = cross_val_score(lgbm, X_train, y_train, cv=5, scoring='accuracy')\n",
    "\n",
    "print(f'Cross-validation scores: {cv_scores}')\n",
    "print(f'Mean CV accuracy: {cv_scores.mean()}')"
   ]
  },
  {
   "cell_type": "markdown",
   "metadata": {},
   "source": [
    "XGBoost"
   ]
  },
  {
   "cell_type": "code",
   "execution_count": null,
   "metadata": {
    "execution": {
     "iopub.execute_input": "2024-08-23T09:17:26.002965Z",
     "iopub.status.busy": "2024-08-23T09:17:26.002548Z",
     "iopub.status.idle": "2024-08-23T09:17:26.165972Z",
     "shell.execute_reply": "2024-08-23T09:17:26.164762Z",
     "shell.execute_reply.started": "2024-08-23T09:17:26.002931Z"
    }
   },
   "outputs": [],
   "source": [
    "from xgboost import XGBClassifier"
   ]
  },
  {
   "cell_type": "code",
   "execution_count": null,
   "metadata": {
    "execution": {
     "iopub.execute_input": "2024-08-23T08:10:50.682787Z",
     "iopub.status.busy": "2024-08-23T08:10:50.682502Z",
     "iopub.status.idle": "2024-08-23T08:10:57.061320Z",
     "shell.execute_reply": "2024-08-23T08:10:57.060286Z",
     "shell.execute_reply.started": "2024-08-23T08:10:50.682758Z"
    }
   },
   "outputs": [],
   "source": [
    "from xgboost import XGBClassifier\n",
    "xgb = XGBClassifier(tree_method='gpu_hist')\n",
    "\n",
    "cv_scores = cross_val_score(xgb, X_train, y_train, cv=5, scoring='accuracy')\n",
    "\n",
    "print(f'Cross-validation scores: {cv_scores}')\n",
    "print(f'Mean CV accuracy: {cv_scores.mean()}')"
   ]
  },
  {
   "cell_type": "code",
   "execution_count": null,
   "metadata": {
    "execution": {
     "iopub.execute_input": "2024-07-29T18:55:40.754088Z",
     "iopub.status.busy": "2024-07-29T18:55:40.753683Z",
     "iopub.status.idle": "2024-07-29T18:55:40.761131Z",
     "shell.execute_reply": "2024-07-29T18:55:40.759814Z",
     "shell.execute_reply.started": "2024-07-29T18:55:40.754057Z"
    }
   },
   "outputs": [],
   "source": [
    "y=y[:,0]\n",
    "y.shape"
   ]
  },
  {
   "cell_type": "code",
   "execution_count": null,
   "metadata": {
    "execution": {
     "iopub.execute_input": "2024-08-12T05:23:43.634097Z",
     "iopub.status.busy": "2024-08-12T05:23:43.633714Z",
     "iopub.status.idle": "2024-08-12T05:23:43.642564Z",
     "shell.execute_reply": "2024-08-12T05:23:43.641674Z",
     "shell.execute_reply.started": "2024-08-12T05:23:43.634067Z"
    }
   },
   "outputs": [],
   "source": [
    "y"
   ]
  },
  {
   "cell_type": "markdown",
   "metadata": {},
   "source": [
    "# **Hyperparameter Tuning**"
   ]
  },
  {
   "cell_type": "code",
   "execution_count": null,
   "metadata": {
    "execution": {
     "iopub.execute_input": "2024-08-23T17:05:54.688353Z",
     "iopub.status.busy": "2024-08-23T17:05:54.687735Z",
     "iopub.status.idle": "2024-08-23T17:05:54.696361Z",
     "shell.execute_reply": "2024-08-23T17:05:54.695451Z",
     "shell.execute_reply.started": "2024-08-23T17:05:54.688319Z"
    }
   },
   "outputs": [],
   "source": [
    "import optuna \n",
    "from optuna import Trial, visualization\n",
    "from optuna.samplers import TPESampler\n",
    "from xgboost import XGBClassifier\n",
    "def objective(trial: Trial, X, y) -> float:\n",
    "    lgb_params = {\n",
    "        'learning_rate': trial.suggest_float('learning_rate', 1e-4, 1.0, log=True),\n",
    "        \"verbosity\": -1,\n",
    "        'n_estimators': trial.suggest_int('n_estimators', 50, 500),\n",
    "        'num_leaves': trial.suggest_int('num_leaves', 10, 50),\n",
    "        'min_child_samples': trial.suggest_int('min_child_samples', 5, 20),\n",
    "        'max_depth': trial.suggest_int('max_depth', 3, 20),\n",
    "        'subsample': trial.suggest_float('subsample', 0.5, 1.0),\n",
    "        'colsample_bytree': trial.suggest_float('colsample_bytree', 0.5, 1.0),\n",
    "        'reg_alpha': trial.suggest_float('reg_alpha', 1e-7, 10.0, log=True),\n",
    "        'reg_lambda': trial.suggest_float('reg_lambda', 1e-7, 10.0, log=True),\n",
    "        'device': 'gpu'  # Use GPU\n",
    "    }\n",
    "\n",
    "    model = LGBMClassifier(**lgb_params)\n",
    "    \n",
    "    return cross_val_score(model, X, y, cv=5, scoring='accuracy').mean()"
   ]
  },
  {
   "cell_type": "code",
   "execution_count": null,
   "metadata": {
    "execution": {
     "iopub.execute_input": "2024-08-23T17:05:55.762348Z",
     "iopub.status.busy": "2024-08-23T17:05:55.761925Z",
     "iopub.status.idle": "2024-08-23T19:21:30.802694Z",
     "shell.execute_reply": "2024-08-23T19:21:30.800347Z",
     "shell.execute_reply.started": "2024-08-23T17:05:55.762320Z"
    }
   },
   "outputs": [],
   "source": [
    "study = optuna.create_study(direction='maximize', sampler=TPESampler())\n",
    "study.optimize(lambda trial: objective(trial, X, y), n_trials=100)\n"
   ]
  },
  {
   "cell_type": "code",
   "execution_count": null,
   "metadata": {
    "execution": {
     "iopub.execute_input": "2024-08-23T19:21:45.726665Z",
     "iopub.status.busy": "2024-08-23T19:21:45.725924Z",
     "iopub.status.idle": "2024-08-23T19:21:45.731803Z",
     "shell.execute_reply": "2024-08-23T19:21:45.730954Z",
     "shell.execute_reply.started": "2024-08-23T19:21:45.726631Z"
    }
   },
   "outputs": [],
   "source": [
    "print('Best trial: score {},\\nparams {}'.format(study.best_trial.value,study.best_trial.params))"
   ]
  },
  {
   "cell_type": "code",
   "execution_count": null,
   "metadata": {
    "execution": {
     "iopub.execute_input": "2024-08-22T09:54:44.857523Z",
     "iopub.status.busy": "2024-08-22T09:54:44.857148Z",
     "iopub.status.idle": "2024-08-22T09:54:44.873341Z",
     "shell.execute_reply": "2024-08-22T09:54:44.872392Z",
     "shell.execute_reply.started": "2024-08-22T09:54:44.857495Z"
    }
   },
   "outputs": [],
   "source": [
    "import optuna \n",
    "from optuna import Trial, visualization\n",
    "from optuna.samplers import TPESampler\n",
    "from xgboost import XGBClassifier\n",
    "def objective(trial: Trial, X, y) -> float:\n",
    "    param = {\n",
    "        \"verbosity\": 0,\n",
    "        \"objective\": \"binary:logistic\",  # Use binary classification objective\n",
    "        \"booster\": trial.suggest_categorical(\"booster\", [\"gbtree\", \"gblinear\", \"dart\"]),\n",
    "        \"lambda\": trial.suggest_float(\"lambda\", 1e-6, 20.0, log=True),\n",
    "        \"alpha\": trial.suggest_float(\"alpha\", 1e-6, 20.0, log=True),\n",
    "        \"subsample\": trial.suggest_float(\"subsample\", 0.2, 1.0),\n",
    "        \"colsample_bytree\": trial.suggest_float(\"colsample_bytree\", 0.2, 1.0),\n",
    "    }\n",
    "\n",
    "    if param[\"booster\"] in [\"gbtree\", \"dart\"]:\n",
    "        param[\"max_depth\"] = trial.suggest_int(\"max_depth\", 2, 12, step=1)\n",
    "        param[\"min_child_weight\"] = trial.suggest_int(\"min_child_weight\", 2, 10)\n",
    "        param[\"eta\"] = trial.suggest_float(\"eta\", 1e-4, 2, log=True)\n",
    "        param[\"gamma\"] = trial.suggest_float(\"gamma\", 1e-6, 10.0, log=True)\n",
    "        param[\"grow_policy\"] = trial.suggest_categorical(\"grow_policy\", [\"depthwise\", \"lossguide\"])\n",
    "\n",
    "    if param[\"booster\"] == \"dart\":\n",
    "        param[\"sample_type\"] = trial.suggest_categorical(\"sample_type\", [\"uniform\", \"weighted\"])\n",
    "        param[\"normalize_type\"] = trial.suggest_categorical(\"normalize_type\", [\"tree\", \"forest\"])\n",
    "        param[\"rate_drop\"] = trial.suggest_float(\"rate_drop\", 1e-8, 1.0, log=True)\n",
    "        param[\"skip_drop\"] = trial.suggest_float(\"skip_drop\", 1e-8, 1.0, log=True)\n",
    "    param[\"tree_method\"] = \"gpu_hist\"    \n",
    "    model = XGBClassifier(**param)\n",
    "    \n",
    "    return cross_val_score(model, X, y, cv=5, scoring='accuracy').mean()\n"
   ]
  },
  {
   "cell_type": "code",
   "execution_count": null,
   "metadata": {
    "execution": {
     "iopub.execute_input": "2024-08-22T09:54:51.068418Z",
     "iopub.status.busy": "2024-08-22T09:54:51.067342Z",
     "iopub.status.idle": "2024-08-22T10:29:08.372895Z",
     "shell.execute_reply": "2024-08-22T10:29:08.372042Z",
     "shell.execute_reply.started": "2024-08-22T09:54:51.068382Z"
    }
   },
   "outputs": [],
   "source": [
    "study = optuna.create_study(direction='maximize', sampler=TPESampler())\n",
    "study.optimize(lambda trial: objective(trial, X, y), n_trials=100)\n"
   ]
  },
  {
   "cell_type": "code",
   "execution_count": null,
   "metadata": {
    "execution": {
     "iopub.execute_input": "2024-08-22T10:34:33.265250Z",
     "iopub.status.busy": "2024-08-22T10:34:33.264402Z",
     "iopub.status.idle": "2024-08-22T10:34:33.270563Z",
     "shell.execute_reply": "2024-08-22T10:34:33.269694Z",
     "shell.execute_reply.started": "2024-08-22T10:34:33.265214Z"
    }
   },
   "outputs": [],
   "source": [
    "print('Best trial: score {},\\nparams {}'.format(study.best_trial.value,study.best_trial.params))"
   ]
  },
  {
   "cell_type": "markdown",
   "metadata": {},
   "source": [
    "Preprocessing Test Dataset for checking accuracy"
   ]
  },
  {
   "cell_type": "code",
   "execution_count": null,
   "metadata": {
    "execution": {
     "iopub.execute_input": "2024-08-23T19:33:55.564435Z",
     "iopub.status.busy": "2024-08-23T19:33:55.564064Z",
     "iopub.status.idle": "2024-08-23T19:33:55.961710Z",
     "shell.execute_reply": "2024-08-23T19:33:55.960790Z",
     "shell.execute_reply.started": "2024-08-23T19:33:55.564406Z"
    }
   },
   "outputs": [],
   "source": [
    "def preprocess_text(text):\n",
    "    text = re.sub('[^a-zA-Z]', ' ', text)\n",
    "    text = text.lower()\n",
    "    text = text.split()\n",
    "    text = [snowballstemmer.stem(word) for word in text if word not in stop_words]\n",
    "    return ' '.join(text)\n",
    "\n",
    "# Applying preprocessing to test data\n",
    "test_df['Processed_Text'] = test_df['Text'].apply(preprocess_text)\n",
    "\n",
    "X_test = test_df['Processed_Text']\n",
    "y_test = test_df['Emotion']"
   ]
  },
  {
   "cell_type": "code",
   "execution_count": null,
   "metadata": {
    "execution": {
     "iopub.execute_input": "2024-08-23T19:33:56.733314Z",
     "iopub.status.busy": "2024-08-23T19:33:56.732960Z",
     "iopub.status.idle": "2024-08-23T19:33:56.894081Z",
     "shell.execute_reply": "2024-08-23T19:33:56.893100Z",
     "shell.execute_reply.started": "2024-08-23T19:33:56.733285Z"
    }
   },
   "outputs": [],
   "source": [
    "def transform_text(text, model):\n",
    "    words = simple_preprocess(text)\n",
    "    vectors = [model.wv[word] for word in words if word in model.wv]\n",
    "    if len(vectors) == 0:\n",
    "        return np.zeros(model.vector_size)\n",
    "    return np.mean(vectors, axis=0)\n",
    "\n",
    "# Convert text to vectors\n",
    "X_test_vectors = np.array([transform_text(text, model) for text in X_test])"
   ]
  },
  {
   "cell_type": "code",
   "execution_count": null,
   "metadata": {
    "execution": {
     "iopub.execute_input": "2024-08-23T19:33:57.885804Z",
     "iopub.status.busy": "2024-08-23T19:33:57.884962Z",
     "iopub.status.idle": "2024-08-23T19:34:25.565896Z",
     "shell.execute_reply": "2024-08-23T19:34:25.564955Z",
     "shell.execute_reply.started": "2024-08-23T19:33:57.885770Z"
    }
   },
   "outputs": [],
   "source": [
    "params = {\n",
    "    'learning_rate': 0.17457696342022835,\n",
    "    'n_estimators': 453,\n",
    "    'num_leaves': 42,\n",
    "    'verbosity':-1,\n",
    "    'min_child_samples': 14,\n",
    "    'max_depth': 6,\n",
    "    'subsample': 0.5989313145956421,\n",
    "    'colsample_bytree': 0.9815244345748503,\n",
    "    'reg_alpha': 0.015501257178977755,\n",
    "    'reg_lambda': 1.5344414752285148e-07,\n",
    "    'objective': 'multiclass',  \n",
    "    'metric': 'multi_logloss',\n",
    "    'device': 'gpu' \n",
    "}\n",
    "\n",
    "lgbm=LGBMClassifier(**params)\n",
    "lgbm.fit(X_train, y_train)\n"
   ]
  },
  {
   "cell_type": "code",
   "execution_count": null,
   "metadata": {
    "execution": {
     "iopub.execute_input": "2024-08-23T19:34:42.755031Z",
     "iopub.status.busy": "2024-08-23T19:34:42.754345Z",
     "iopub.status.idle": "2024-08-23T19:34:42.967975Z",
     "shell.execute_reply": "2024-08-23T19:34:42.966953Z",
     "shell.execute_reply.started": "2024-08-23T19:34:42.754992Z"
    }
   },
   "outputs": [],
   "source": [
    "y_pred = lgbm.predict(X_test_vectors)"
   ]
  },
  {
   "cell_type": "code",
   "execution_count": null,
   "metadata": {
    "execution": {
     "iopub.execute_input": "2024-08-23T19:34:44.488703Z",
     "iopub.status.busy": "2024-08-23T19:34:44.488057Z",
     "iopub.status.idle": "2024-08-23T19:34:44.495345Z",
     "shell.execute_reply": "2024-08-23T19:34:44.494416Z",
     "shell.execute_reply.started": "2024-08-23T19:34:44.488673Z"
    }
   },
   "outputs": [],
   "source": [
    "y_test_encoded = encoder.transform(y_test)\n",
    "accuracy = accuracy_score(y_test_encoded, y_pred)\n",
    "print(f\"Test set accuracy: {accuracy}\")"
   ]
  },
  {
   "cell_type": "code",
   "execution_count": null,
   "metadata": {
    "execution": {
     "iopub.execute_input": "2024-08-23T19:35:23.295310Z",
     "iopub.status.busy": "2024-08-23T19:35:23.294935Z",
     "iopub.status.idle": "2024-08-23T19:35:25.579724Z",
     "shell.execute_reply": "2024-08-23T19:35:25.578844Z",
     "shell.execute_reply.started": "2024-08-23T19:35:23.295281Z"
    }
   },
   "outputs": [],
   "source": [
    "params = {\n",
    "    'booster': 'gbtree',\n",
    "    'lambda': 3.9793910587322068,\n",
    "    'alpha': 0.0004840911953306867,\n",
    "    'subsample':  0.8907507700341791,\n",
    "    'colsample_bytree': 0.8214397498178605,\n",
    "    'max_depth': 8,\n",
    "    'min_child_weight': 5,\n",
    "    'eta': 0.1912552566038664,\n",
    "    'gamma': 0.0006355355712833726,\n",
    "    'grow_policy': 'depthwise',\n",
    "    'tree_method': 'gpu_hist'  \n",
    "}\n",
    "\n",
    "\n",
    "xgb = XGBClassifier(**params)\n",
    "\n",
    "xgb.fit(X_train, y_train)\n"
   ]
  },
  {
   "cell_type": "code",
   "execution_count": null,
   "metadata": {
    "execution": {
     "iopub.execute_input": "2024-08-23T19:35:47.714399Z",
     "iopub.status.busy": "2024-08-23T19:35:47.714064Z",
     "iopub.status.idle": "2024-08-23T19:35:47.769480Z",
     "shell.execute_reply": "2024-08-23T19:35:47.768590Z",
     "shell.execute_reply.started": "2024-08-23T19:35:47.714375Z"
    }
   },
   "outputs": [],
   "source": [
    "y_pred = xgb.predict(X_test_vectors)"
   ]
  },
  {
   "cell_type": "code",
   "execution_count": null,
   "metadata": {
    "execution": {
     "iopub.execute_input": "2024-08-23T19:36:02.284865Z",
     "iopub.status.busy": "2024-08-23T19:36:02.284116Z",
     "iopub.status.idle": "2024-08-23T19:36:02.291888Z",
     "shell.execute_reply": "2024-08-23T19:36:02.290956Z",
     "shell.execute_reply.started": "2024-08-23T19:36:02.284830Z"
    }
   },
   "outputs": [],
   "source": [
    "y_test_encoded = encoder.transform(y_test)\n",
    "accuracy = accuracy_score(y_test_encoded, y_pred)\n",
    "print(f\"Test set accuracy: {accuracy}\")"
   ]
  },
  {
   "cell_type": "markdown",
   "metadata": {},
   "source": [
    "# Model Training with RNN"
   ]
  },
  {
   "cell_type": "code",
   "execution_count": null,
   "metadata": {
    "execution": {
     "iopub.execute_input": "2024-08-23T19:50:43.594696Z",
     "iopub.status.busy": "2024-08-23T19:50:43.594333Z",
     "iopub.status.idle": "2024-08-23T19:50:43.599740Z",
     "shell.execute_reply": "2024-08-23T19:50:43.598578Z",
     "shell.execute_reply.started": "2024-08-23T19:50:43.594666Z"
    }
   },
   "outputs": [],
   "source": [
    "from keras.utils import pad_sequences\n",
    "from keras import Sequential\n",
    "from keras.layers import Dense,SimpleRNN,Embedding,Flatten\n",
    "from tensorflow.keras.callbacks import EarlyStopping"
   ]
  },
  {
   "cell_type": "code",
   "execution_count": null,
   "metadata": {
    "execution": {
     "iopub.execute_input": "2024-08-23T19:50:44.954694Z",
     "iopub.status.busy": "2024-08-23T19:50:44.954024Z",
     "iopub.status.idle": "2024-08-23T19:50:44.959443Z",
     "shell.execute_reply": "2024-08-23T19:50:44.958466Z",
     "shell.execute_reply.started": "2024-08-23T19:50:44.954656Z"
    }
   },
   "outputs": [],
   "source": [
    "from tensorflow.keras.preprocessing.text import Tokenizer\n",
    "tokenizer = Tokenizer()\n"
   ]
  },
  {
   "cell_type": "code",
   "execution_count": null,
   "metadata": {
    "execution": {
     "iopub.execute_input": "2024-08-23T19:50:45.844215Z",
     "iopub.status.busy": "2024-08-23T19:50:45.843855Z",
     "iopub.status.idle": "2024-08-23T19:50:46.111346Z",
     "shell.execute_reply": "2024-08-23T19:50:46.110629Z",
     "shell.execute_reply.started": "2024-08-23T19:50:45.844188Z"
    }
   },
   "outputs": [],
   "source": [
    "tokenizer.fit_on_texts(corpus)"
   ]
  },
  {
   "cell_type": "code",
   "execution_count": null,
   "metadata": {
    "execution": {
     "iopub.execute_input": "2024-08-23T19:50:46.946412Z",
     "iopub.status.busy": "2024-08-23T19:50:46.945716Z",
     "iopub.status.idle": "2024-08-23T19:50:47.361920Z",
     "shell.execute_reply": "2024-08-23T19:50:47.361051Z",
     "shell.execute_reply.started": "2024-08-23T19:50:46.946381Z"
    }
   },
   "outputs": [],
   "source": [
    "sequences = tokenizer.texts_to_sequences(corpus)\n",
    "sequences"
   ]
  },
  {
   "cell_type": "code",
   "execution_count": null,
   "metadata": {
    "execution": {
     "iopub.execute_input": "2024-08-23T19:50:48.043139Z",
     "iopub.status.busy": "2024-08-23T19:50:48.042505Z",
     "iopub.status.idle": "2024-08-23T19:50:48.052446Z",
     "shell.execute_reply": "2024-08-23T19:50:48.051587Z",
     "shell.execute_reply.started": "2024-08-23T19:50:48.043105Z"
    }
   },
   "outputs": [],
   "source": [
    "sequence_lengths = [len(seq) for seq in sequences]\n",
    "maxlen = np.max(sequence_lengths)\n",
    "maxlen"
   ]
  },
  {
   "cell_type": "code",
   "execution_count": null,
   "metadata": {
    "execution": {
     "iopub.execute_input": "2024-08-23T19:50:49.015554Z",
     "iopub.status.busy": "2024-08-23T19:50:49.014939Z",
     "iopub.status.idle": "2024-08-23T19:50:49.086994Z",
     "shell.execute_reply": "2024-08-23T19:50:49.086210Z",
     "shell.execute_reply.started": "2024-08-23T19:50:49.015521Z"
    }
   },
   "outputs": [],
   "source": [
    "X = pad_sequences(sequences, maxlen=maxlen)"
   ]
  },
  {
   "cell_type": "code",
   "execution_count": null,
   "metadata": {
    "execution": {
     "iopub.execute_input": "2024-08-23T19:50:49.842797Z",
     "iopub.status.busy": "2024-08-23T19:50:49.841974Z",
     "iopub.status.idle": "2024-08-23T19:50:49.846712Z",
     "shell.execute_reply": "2024-08-23T19:50:49.845781Z",
     "shell.execute_reply.started": "2024-08-23T19:50:49.842764Z"
    }
   },
   "outputs": [],
   "source": [
    "X_train=X[:14123]\n",
    "X_val=X[14123:]"
   ]
  },
  {
   "cell_type": "code",
   "execution_count": null,
   "metadata": {
    "execution": {
     "iopub.execute_input": "2024-08-23T07:26:49.807648Z",
     "iopub.status.busy": "2024-08-23T07:26:49.807314Z",
     "iopub.status.idle": "2024-08-23T07:26:49.813451Z",
     "shell.execute_reply": "2024-08-23T07:26:49.812627Z",
     "shell.execute_reply.started": "2024-08-23T07:26:49.807625Z"
    }
   },
   "outputs": [],
   "source": [
    "X_train.shape"
   ]
  },
  {
   "cell_type": "code",
   "execution_count": null,
   "metadata": {
    "execution": {
     "iopub.execute_input": "2024-08-23T19:50:54.647545Z",
     "iopub.status.busy": "2024-08-23T19:50:54.646911Z",
     "iopub.status.idle": "2024-08-23T19:50:54.657979Z",
     "shell.execute_reply": "2024-08-23T19:50:54.657018Z",
     "shell.execute_reply.started": "2024-08-23T19:50:54.647504Z"
    }
   },
   "outputs": [],
   "source": [
    "from sklearn.preprocessing import LabelEncoder\n",
    "encoder = LabelEncoder()\n",
    "y=encoder.fit_transform(training_dataset['Emotion'])\n",
    "y"
   ]
  },
  {
   "cell_type": "code",
   "execution_count": null,
   "metadata": {
    "execution": {
     "iopub.execute_input": "2024-08-23T19:50:55.958862Z",
     "iopub.status.busy": "2024-08-23T19:50:55.958114Z",
     "iopub.status.idle": "2024-08-23T19:50:55.963048Z",
     "shell.execute_reply": "2024-08-23T19:50:55.962038Z",
     "shell.execute_reply.started": "2024-08-23T19:50:55.958828Z"
    }
   },
   "outputs": [],
   "source": [
    "y_train=y[:14123]\n",
    "y_val=y[14123:]"
   ]
  },
  {
   "cell_type": "code",
   "execution_count": null,
   "metadata": {
    "execution": {
     "iopub.execute_input": "2024-08-23T07:49:48.827272Z",
     "iopub.status.busy": "2024-08-23T07:49:48.826442Z",
     "iopub.status.idle": "2024-08-23T07:49:48.970650Z",
     "shell.execute_reply": "2024-08-23T07:49:48.969599Z",
     "shell.execute_reply.started": "2024-08-23T07:49:48.827239Z"
    }
   },
   "outputs": [],
   "source": [
    "from collections import Counter\n",
    "\n",
    "# Flatten the list of tokenized sequences to a single list of tokens\n",
    "all_tokens = [token for sequence in X for token in sequence]\n",
    "\n",
    "# Finding unique tokens\n",
    "unique_tokens = set(all_tokens)\n",
    "print(f\"Number of unique tokens: {len(unique_tokens)}\")\n"
   ]
  },
  {
   "cell_type": "code",
   "execution_count": null,
   "metadata": {
    "execution": {
     "iopub.execute_input": "2024-08-23T19:51:03.893502Z",
     "iopub.status.busy": "2024-08-23T19:51:03.892880Z",
     "iopub.status.idle": "2024-08-23T19:51:04.419395Z",
     "shell.execute_reply": "2024-08-23T19:51:04.418544Z",
     "shell.execute_reply.started": "2024-08-23T19:51:03.893466Z"
    }
   },
   "outputs": [],
   "source": [
    "from tensorflow.keras.optimizers import Adam\n",
    "model = Sequential()\n",
    "model.add(Embedding(input_dim=10087, output_dim=150, input_length=15))\n",
    "model.add(SimpleRNN(32,return_sequences=False))\n",
    "model.add(Dense(4, activation='softmax'))\n",
    "\n",
    "model.summary()"
   ]
  },
  {
   "cell_type": "code",
   "execution_count": null,
   "metadata": {
    "execution": {
     "iopub.execute_input": "2024-08-23T19:51:13.932355Z",
     "iopub.status.busy": "2024-08-23T19:51:13.931984Z",
     "iopub.status.idle": "2024-08-23T19:53:02.898113Z",
     "shell.execute_reply": "2024-08-23T19:53:02.897319Z",
     "shell.execute_reply.started": "2024-08-23T19:51:13.932327Z"
    }
   },
   "outputs": [],
   "source": [
    "early_stopping = EarlyStopping(\n",
    "    monitor='val_accuracy',  \n",
    "    patience=5,            \n",
    "    restore_best_weights=True \n",
    ")\n",
    "model.compile(optimizer=Adam(), loss='sparse_categorical_crossentropy', metrics=['accuracy'])\n",
    "history = model.fit(X_train, y_train,epochs=50,validation_data=(X_val,y_val))"
   ]
  },
  {
   "cell_type": "code",
   "execution_count": null,
   "metadata": {
    "execution": {
     "iopub.execute_input": "2024-08-23T19:53:11.455920Z",
     "iopub.status.busy": "2024-08-23T19:53:11.455587Z",
     "iopub.status.idle": "2024-08-23T19:53:11.676972Z",
     "shell.execute_reply": "2024-08-23T19:53:11.675969Z",
     "shell.execute_reply.started": "2024-08-23T19:53:11.455896Z"
    }
   },
   "outputs": [],
   "source": [
    "plt.plot(history.history['accuracy'],color='red',label='train')\n",
    "plt.plot(history.history['val_accuracy'],color='blue',label='validation')\n",
    "plt.legend()\n",
    "plt.show()"
   ]
  },
  {
   "cell_type": "code",
   "execution_count": null,
   "metadata": {
    "execution": {
     "iopub.execute_input": "2024-08-23T19:53:12.831606Z",
     "iopub.status.busy": "2024-08-23T19:53:12.831218Z",
     "iopub.status.idle": "2024-08-23T19:53:13.013109Z",
     "shell.execute_reply": "2024-08-23T19:53:13.012211Z",
     "shell.execute_reply.started": "2024-08-23T19:53:12.831574Z"
    }
   },
   "outputs": [],
   "source": [
    "plt.plot(history.history['loss'],color='red',label='train')\n",
    "plt.plot(history.history['val_loss'],color='blue',label='validation')\n",
    "plt.legend()\n",
    "plt.show()"
   ]
  },
  {
   "cell_type": "markdown",
   "metadata": {},
   "source": [
    "Preprocessing Test Dataset for checking accuracy"
   ]
  },
  {
   "cell_type": "code",
   "execution_count": null,
   "metadata": {
    "execution": {
     "iopub.execute_input": "2024-08-23T19:53:29.245307Z",
     "iopub.status.busy": "2024-08-23T19:53:29.244480Z",
     "iopub.status.idle": "2024-08-23T19:53:29.257928Z",
     "shell.execute_reply": "2024-08-23T19:53:29.256941Z",
     "shell.execute_reply.started": "2024-08-23T19:53:29.245273Z"
    }
   },
   "outputs": [],
   "source": [
    "def preprocess_text(text):\n",
    "    text = re.sub('[^a-zA-Z]', ' ', text)\n",
    "    text = text.lower()\n",
    "    text = text.split()\n",
    "    text = [snowballstemmer.stem(word) for word in text if word not in stop_words]\n",
    "    return ' '.join(text)\n",
    "\n",
    "# Applying preprocessing to test data\n",
    "test_df['Processed_Text'] = test_df['Text'].apply(preprocess_text)\n",
    "\n",
    "X_test = test_df['Processed_Text']\n",
    "y_test = test_df['Emotion']"
   ]
  },
  {
   "cell_type": "code",
   "execution_count": null,
   "metadata": {
    "execution": {
     "iopub.execute_input": "2024-08-23T19:57:37.450908Z",
     "iopub.status.busy": "2024-08-23T19:57:37.450541Z",
     "iopub.status.idle": "2024-08-23T19:57:37.652317Z",
     "shell.execute_reply": "2024-08-23T19:57:37.651576Z",
     "shell.execute_reply.started": "2024-08-23T19:57:37.450879Z"
    }
   },
   "outputs": [],
   "source": [
    "test_sequences = tokenizer.texts_to_sequences(test_df['Processed_Text'])\n",
    "X_test = pad_sequences(test_sequences, maxlen=maxlen)  \n",
    "\n",
    "y_pred = model.predict(X_test)"
   ]
  },
  {
   "cell_type": "code",
   "execution_count": null,
   "metadata": {
    "execution": {
     "iopub.execute_input": "2024-08-23T19:57:40.282392Z",
     "iopub.status.busy": "2024-08-23T19:57:40.282024Z",
     "iopub.status.idle": "2024-08-23T19:57:40.290134Z",
     "shell.execute_reply": "2024-08-23T19:57:40.289235Z",
     "shell.execute_reply.started": "2024-08-23T19:57:40.282361Z"
    }
   },
   "outputs": [],
   "source": [
    "y_pred_labels = np.argmax(y_pred, axis=1)\n",
    "y_test_encoded = encoder.transform(test_df['Emotion'])\n",
    "accuracy = accuracy_score(y_test_encoded, y_pred_labels)\n",
    "print(f\"Test set accuracy: {accuracy}\")"
   ]
  },
  {
   "cell_type": "markdown",
   "metadata": {},
   "source": [
    "# **Saving the Trained Model and Label Encoder**"
   ]
  },
  {
   "cell_type": "code",
   "execution_count": null,
   "metadata": {
    "execution": {
     "iopub.execute_input": "2024-08-23T19:59:41.354353Z",
     "iopub.status.busy": "2024-08-23T19:59:41.353992Z",
     "iopub.status.idle": "2024-08-23T19:59:41.428778Z",
     "shell.execute_reply": "2024-08-23T19:59:41.427826Z",
     "shell.execute_reply.started": "2024-08-23T19:59:41.354328Z"
    }
   },
   "outputs": [],
   "source": [
    "import pickle\n",
    "model.save('emotion_classification_rnn.h5')\n",
    "with open('tokenizer.pkl', 'wb') as file:\n",
    "    pickle.dump(tokenizer, file)\n",
    "with open('label_encoder.pkl', 'wb') as file:\n",
    "    pickle.dump(encoder, file)"
   ]
  },
  {
   "cell_type": "code",
   "execution_count": null,
   "metadata": {},
   "outputs": [],
   "source": []
  }
 ],
 "metadata": {
  "kaggle": {
   "accelerator": "gpu",
   "dataSources": [
    {
     "datasetId": 605165,
     "sourceId": 1085454,
     "sourceType": "datasetVersion"
    }
   ],
   "dockerImageVersionId": 30747,
   "isGpuEnabled": true,
   "isInternetEnabled": true,
   "language": "python",
   "sourceType": "notebook"
  },
  "kernelspec": {
   "display_name": "Python 3 (ipykernel)",
   "language": "python",
   "name": "python3"
  },
  "language_info": {
   "codemirror_mode": {
    "name": "ipython",
    "version": 3
   },
   "file_extension": ".py",
   "mimetype": "text/x-python",
   "name": "python",
   "nbconvert_exporter": "python",
   "pygments_lexer": "ipython3",
   "version": "3.11.3"
  }
 },
 "nbformat": 4,
 "nbformat_minor": 4
}
